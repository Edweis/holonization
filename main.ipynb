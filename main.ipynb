{
 "cells": [
  {
   "cell_type": "markdown",
   "metadata": {},
   "source": [
    "# Holonization project\n"
   ]
  },
  {
   "cell_type": "code",
   "execution_count": 8,
   "metadata": {},
   "outputs": [
    {
     "ename": "ModuleNotFoundError",
     "evalue": "No module named '__main__.models'; '__main__' is not a package",
     "output_type": "error",
     "traceback": [
      "\u001b[0;31m---------------------------------------------------------------------------\u001b[0m",
      "\u001b[0;31mModuleNotFoundError\u001b[0m                       Traceback (most recent call last)",
      "\u001b[0;32m<ipython-input-8-1c71782ede4a>\u001b[0m in \u001b[0;36m<module>\u001b[0;34m\u001b[0m\n\u001b[1;32m      4\u001b[0m \u001b[0;32mimport\u001b[0m \u001b[0mmatplotlib\u001b[0m\u001b[0;34m\u001b[0m\u001b[0;34m\u001b[0m\u001b[0m\n\u001b[1;32m      5\u001b[0m \u001b[0;34m\u001b[0m\u001b[0m\n\u001b[0;32m----> 6\u001b[0;31m \u001b[0;32mfrom\u001b[0m \u001b[0;34m.\u001b[0m\u001b[0mmodels\u001b[0m \u001b[0;32mimport\u001b[0m \u001b[0mEvolution\u001b[0m\u001b[0;34m,\u001b[0m \u001b[0mSituation\u001b[0m\u001b[0;34m,\u001b[0m \u001b[0mState\u001b[0m\u001b[0;34m,\u001b[0m \u001b[0mDeposit\u001b[0m\u001b[0;34m\u001b[0m\u001b[0;34m\u001b[0m\u001b[0m\n\u001b[0m",
      "\u001b[0;31mModuleNotFoundError\u001b[0m: No module named '__main__.models'; '__main__' is not a package"
     ]
    }
   ],
   "source": [
    "import pandas as pd\n",
    "import numpy as np\n",
    "import matplotlib.pyplot as plt\n",
    "import matplotlib\n",
    "\n",
    "%run models.py"
   ]
  },
  {
   "cell_type": "markdown",
   "metadata": {},
   "source": [
    "## Populate with data"
   ]
  },
  {
   "cell_type": "code",
   "execution_count": 45,
   "metadata": {},
   "outputs": [],
   "source": [
    "n = 0\n",
    "M = []  # Interaction matrices\n",
    "stake_holders = ['v', 'd', 'f', 'ext', 'int']"
   ]
  },
  {
   "cell_type": "markdown",
   "metadata": {},
   "source": [
    "Now let's populate them."
   ]
  },
  {
   "cell_type": "code",
   "execution_count": 3,
   "metadata": {},
   "outputs": [],
   "source": [
    "data_0 = [\n",
    "    [0, 7.5, 10, 0.3, 4],\n",
    "    [0, 0, 0, 0.1, 8],\n",
    "    [9.5, 0, 0, 0.3, 0],\n",
    "    [10, 0, 0, 0, 0],\n",
    "    [0, 0, 0, 0, 0.01]\n",
    "]\n",
    "M.append(pd.DataFrame(data=data_0, columns=stake_holders, index=stake_holders))"
   ]
  },
  {
   "cell_type": "code",
   "execution_count": 4,
   "metadata": {},
   "outputs": [],
   "source": [
    "data_1 = [\n",
    "    [0, 8.5, 20, 0.4, 4],\n",
    "    [0, 0, 0, 0.4, 8],\n",
    "    [19, 0, 0, 0.3, 0],\n",
    "    [20, 0, 0, 0, 0],\n",
    "    [0, 0, 0, 0, 0.01]\n",
    "]\n",
    "M.append(pd.DataFrame(data=data_1, columns=stake_holders, index=stake_holders))"
   ]
  },
  {
   "cell_type": "code",
   "execution_count": 5,
   "metadata": {},
   "outputs": [],
   "source": [
    "data_pes = [1, 2, 0, 0, 0]\n",
    "PES = [\n",
    "    pd.Series(data=[0, 0, 0, 0, 0], index=stake_holders), \n",
    "    pd.Series(data=data_pes, index=stake_holders)\n",
    "]"
   ]
  },
  {
   "cell_type": "markdown",
   "metadata": {},
   "source": [
    "### Methods\n"
   ]
  },
  {
   "cell_type": "code",
   "execution_count": 6,
   "metadata": {},
   "outputs": [],
   "source": [
    "def s(df, stake_holder):\n",
    "    return df.loc[stake_holder, :].sum()\n",
    "def e(df, stake_holder):\n",
    "    return df.loc[:, stake_holder].sum()\n",
    "def mod(df, stake_holder):\n",
    "    return np.sqrt(\n",
    "        np.power(e(df, stake_holder), 2) + \n",
    "        np.power(s(df, stake_holder), 2)\n",
    "    )\n",
    "def slope(df, stake_holder):\n",
    "    return s(df, stake_holder)/e(df, stake_holder)"
   ]
  },
  {
   "cell_type": "markdown",
   "metadata": {},
   "source": [
    "## Data viz"
   ]
  },
  {
   "cell_type": "code",
   "execution_count": 7,
   "metadata": {},
   "outputs": [],
   "source": [
    "def plot_interaction(df, n, m):\n",
    "    ids = df[n].index\n",
    "    x_n = [ e(df[n], sh) for sh in ids]\n",
    "    x_m = [ e(df[m], sh) for sh in ids]\n",
    "    y_n = [ s(df[n], sh) for sh in ids]\n",
    "    y_m = [ s(df[m], sh) for sh in ids]\n",
    "    \n",
    "    dx = [a - b for a, b in zip(x_m, x_n)]\n",
    "    dy = [a - b for a, b in zip(y_m, y_n)]\n",
    "    \n",
    "    # arrows\n",
    "    for x_0, y_0, dx_0, dy_0, id_ in zip(x_n, y_n, dx, dy, ids):\n",
    "        if dx_0 !=0 and dy_0 != 0:\n",
    "            print(f'{id_}: ({x_0}, {y_0}) => ({x_0+dx_0}, {y_0+dy_0})')\n",
    "            plt.arrow(x_0, y_0, dx_0, dy_0, head_width=0.5, length_includes_head=True, label=id_)\n",
    "    \n",
    "    # points\n",
    "    plt.scatter(x_n, y_n, c='blue', marker=\"o\")\n",
    "    plt.scatter(x_m, y_m, c='green')\n",
    "    for x_0, y_0, id_ in zip(x_n, y_n, ids):\n",
    "        plt.annotate(id_, (x_0, y_0), xytext=(x_0-1, y_0))\n",
    "        \n",
    "    # first bissectrice\n",
    "    top  = max(x_n + x_m + y_n + y_m)\n",
    "    plt.plot([0, top], [0, top], color='orange', linestyle='dashed', linewidth=2, markersize=12)\n",
    "    \n",
    "    # infos\n",
    "    plt.title('Holons rentability progress')\n",
    "    plt.axes().set_xlabel('Income')\n",
    "    plt.axes().set_ylabel('Outcome')\n"
   ]
  },
  {
   "cell_type": "code",
   "execution_count": 8,
   "metadata": {},
   "outputs": [
    {
     "name": "stdout",
     "output_type": "stream",
     "text": [
      "v: (19.5, 21.8) => (39.0, 32.9)\n",
      "d: (7.5, 8.1) => (8.5, 8.4)\n",
      "f: (10, 9.8) => (20, 19.3)\n",
      "ext: (0.7, 10.0) => (1.1, 20.0)\n"
     ]
    },
    {
     "name": "stderr",
     "output_type": "stream",
     "text": [
      "/home/eydwales/.local/share/virtualenvs/holonization-19PnVPEF/lib/python3.6/site-packages/matplotlib/figure.py:98: MatplotlibDeprecationWarning: \n",
      "Adding an axes using the same arguments as a previous axes currently reuses the earlier instance.  In a future version, a new instance will always be created and returned.  Meanwhile, this warning can be suppressed, and the future behavior ensured, by passing a unique label to each axes instance.\n",
      "  \"Adding an axes using the same arguments as a previous axes \"\n"
     ]
    },
    {
     "data": {
      "image/png": "[encoded data removed]",
      "text/plain": [
       "<Figure size 720x720 with 1 Axes>"
      ]
     },
     "metadata": {
      "needs_background": "light"
     },
     "output_type": "display_data"
    }
   ],
   "source": [
    "plt.figure(figsize=(10,10))\n",
    "plot_interaction(M, n, n+1)\n",
    "plt.show()"
   ]
  },
  {
   "cell_type": "markdown",
   "metadata": {},
   "source": [
    "## First ration function"
   ]
  },
  {
   "cell_type": "code",
   "execution_count": 9,
   "metadata": {},
   "outputs": [],
   "source": [
    "def r_one(df, n, stake_holder):\n",
    "    return mod(df[n+1], stake_holder)/mod(df[n], stake_holder) * slope(df[n], stake_holder)/slope(df[n+1], stake_holder)\n",
    "def r(df, n):\n",
    "    data = [r_one(df, n, index) for index in df[n].index]\n",
    "    return pd.Series(data=data, index=df[n].index)"
   ]
  },
  {
   "cell_type": "code",
   "execution_count": 10,
   "metadata": {},
   "outputs": [
    {
     "data": {
      "text/plain": [
       "v      2.311822\n",
       "d      1.183075\n",
       "f      2.015918\n",
       "ext    1.569962\n",
       "int    1.000000\n",
       "dtype: float64"
      ]
     },
     "execution_count": 10,
     "metadata": {},
     "output_type": "execute_result"
    }
   ],
   "source": [
    "r(M, 0)"
   ]
  },
  {
   "cell_type": "markdown",
   "metadata": {},
   "source": [
    "## Second ratio function resolution"
   ]
  },
  {
   "cell_type": "code",
   "execution_count": null,
   "metadata": {},
   "outputs": [],
   "source": [
    "def get_state(situation, holon):\n",
    "    \"\"\" Get the income and outcome of a holon in a situation.\"\"\"\n",
    "    \n",
    "    return income, outcome"
   ]
  },
  {
   "cell_type": "code",
   "execution_count": null,
   "metadata": {},
   "outputs": [],
   "source": [
    "def compute_g(situation, deposit, n):\n",
    "    \"\"\"Get the revised ration g from a situation with a deposit at a specific time (n).\"\"\"\n",
    "    \n",
    "    return computed_g"
   ]
  },
  {
   "cell_type": "code",
   "execution_count": null,
   "metadata": {},
   "outputs": [],
   "source": [
    "def g()"
   ]
  },
  {
   "cell_type": "code",
   "execution_count": 39,
   "metadata": {},
   "outputs": [],
   "source": [
    "def g_one(df, depo, n, sh):\n",
    "    s_n1 = s(df[n+1], sh)\n",
    "    d = depo[n+1][sh]\n",
    "    mod_n1_2 = mod(df[n], sh) ** 2\n",
    "    assert mod_n1_2 != 0\n",
    "    \n",
    "    left_coef = mod_n1_2\n",
    "    left_fact_1 = np.poly1d([d/s_n1, 1-d/s_n1])**2\n",
    "    left_fact_2 = np.poly1d([1, 0, 0])\n",
    "    left = np.polymul(left_fact_1, left_fact_2) * left_coef\n",
    "    \n",
    "    right_coef = r_one(df, n, sh) ** 2\n",
    "    right_fact  = np.poly1d([\n",
    "        d**2,\n",
    "        2*s_n1*d-2*d**2,\n",
    "        mod_n1_2 - 2*s_n1*d +d**2\n",
    "    ])\n",
    "    right = right_fact * right_coef\n",
    "      \n",
    "    func = left - right\n",
    "\n",
    "    roots = np.roots(func)\n",
    "    real_roots = np.real(roots[~np.iscomplex(roots)])\n",
    "    print('Real roots for '+sh)\n",
    "    print(real_roots)\n",
    "    positive_real_roots = real_roots[real_roots > 0 ]\n",
    "#     offset = abs(max(positive_real_roots) - min(positive_real_roots)) / 5\n",
    "#     x = np.linspace(min(positive_real_roots) - offset, max(positive_real_roots) + offset, 1000)\n",
    "#     plt.plot(x, np.polyval(func, x))\n",
    "#     plt.plot([x[0], x[-1]], [0,0])\n",
    "#     plt.plot(positive_real_roots, np.full(len(positive_real_roots), 0), 'bo')\n",
    "    return min(positive_real_roots)\n",
    "    "
   ]
  },
  {
   "cell_type": "code",
   "execution_count": 40,
   "metadata": {},
   "outputs": [],
   "source": [
    "def g(df, depo,  n):\n",
    "    data = [g_one(df, depo, n, index) for index in df[n].index]\n",
    "    return pd.Series(data=data, index=df[n].index)"
   ]
  },
  {
   "cell_type": "code",
   "execution_count": 41,
   "metadata": {},
   "outputs": [
    {
     "name": "stdout",
     "output_type": "stream",
     "text": [
      "Real roots for v\n",
      "[ 2.33515305 -2.24006172]\n"
     ]
    },
    {
     "data": {
      "text/plain": [
       "2.335153048004985"
      ]
     },
     "execution_count": 41,
     "metadata": {},
     "output_type": "execute_result"
    }
   ],
   "source": [
    "g_one(M, PES, 0, 'v')"
   ]
  },
  {
   "cell_type": "code",
   "execution_count": 42,
   "metadata": {},
   "outputs": [
    {
     "name": "stdout",
     "output_type": "stream",
     "text": [
      "Real roots for v\n",
      "[ 2.33515305 -2.24006172]\n",
      "Real roots for d\n",
      "[-4.02236871  1.16451007]\n",
      "Real roots for f\n",
      "[-2.01591793  2.01591793]\n",
      "Real roots for ext\n",
      "[-1.56996186  1.56996186]\n",
      "Real roots for int\n",
      "[-1.  1.]\n"
     ]
    },
    {
     "data": {
      "text/plain": [
       "v      2.335153\n",
       "d      1.164510\n",
       "f      2.015918\n",
       "ext    1.569962\n",
       "int    1.000000\n",
       "dtype: float64"
      ]
     },
     "execution_count": 42,
     "metadata": {},
     "output_type": "execute_result"
    }
   ],
   "source": [
    "g(M, PES, n)"
   ]
  },
  {
   "cell_type": "markdown",
   "metadata": {},
   "source": [
    "## Let's compare R and G"
   ]
  },
  {
   "cell_type": "code",
   "execution_count": 43,
   "metadata": {},
   "outputs": [
    {
     "data": {
      "text/plain": [
       "v      2.311822\n",
       "d      1.183075\n",
       "f      2.015918\n",
       "ext    1.569962\n",
       "int    1.000000\n",
       "dtype: float64"
      ]
     },
     "execution_count": 43,
     "metadata": {},
     "output_type": "execute_result"
    }
   ],
   "source": [
    "r(M, 0) "
   ]
  },
  {
   "cell_type": "code",
   "execution_count": 44,
   "metadata": {},
   "outputs": [
    {
     "name": "stdout",
     "output_type": "stream",
     "text": [
      "Real roots for v\n",
      "[ 2.33515305 -2.24006172]\n",
      "Real roots for d\n",
      "[-4.02236871  1.16451007]\n",
      "Real roots for f\n",
      "[-2.01591793  2.01591793]\n",
      "Real roots for ext\n",
      "[-1.56996186  1.56996186]\n",
      "Real roots for int\n",
      "[-1.  1.]\n"
     ]
    },
    {
     "data": {
      "text/plain": [
       "v      2.335153\n",
       "d      1.164510\n",
       "f      2.015918\n",
       "ext    1.569962\n",
       "int    1.000000\n",
       "dtype: float64"
      ]
     },
     "execution_count": 44,
     "metadata": {},
     "output_type": "execute_result"
    }
   ],
   "source": [
    "g(M, PES, n)"
   ]
  },
  {
   "cell_type": "code",
   "execution_count": 17,
   "metadata": {},
   "outputs": [],
   "source": [
    "def plot_pes_expense_r(df, PES, n):\n",
    "    r_pes_expenses = (r(df, n) - 1) * PES[n+1]\n",
    "\n",
    "    ids = df[n].index\n",
    "    x_n1 = [ e(df[n+1], sh) for sh in ids]\n",
    "    y_n1 = [ s(df[n+1], sh) for sh in ids]\n",
    "    x_n1_with_pes = x_n1\n",
    "    y_n1_with_pes = y_n1 + r_pes_expenses\n",
    "    print('------r')\n",
    "    for x_0, y_0, x_1, y_1, id_ in zip(x_n1, y_n1, x_n1_with_pes, y_n1_with_pes, ids):\n",
    "        if y_0 != y_1:\n",
    "            print(f'{id_}: pes valo => (+0, {y_0-y_1})')\n",
    "            plt.plot([x_0, x_1], [y_0, y_1], color='yellow', linestyle='--', linewidth=1, marker=\"X\")"
   ]
  },
  {
   "cell_type": "code",
   "execution_count": 18,
   "metadata": {},
   "outputs": [],
   "source": [
    "def plot_pes_expense_g(df, PES, n):\n",
    "    g_pes_expenses = (g(df, PES, n)-1) * PES[n+1]\n",
    "\n",
    "    ids = df[n].index\n",
    "    x_n1 = [ e(df[n+1], sh) for sh in ids]\n",
    "    y_n1 = [ s(df[n+1], sh) for sh in ids]\n",
    "    x_n1_with_pes = x_n1\n",
    "    y_n1_with_pes = y_n1 + g_pes_expenses\n",
    "    print('------g')\n",
    "    for x_0, y_0, x_1, y_1, id_ in zip(x_n1, y_n1, x_n1_with_pes, y_n1_with_pes, ids):\n",
    "        if y_0 != y_1:\n",
    "            print(f'{id_}: pes valo => (+0, {y_0-y_1})')\n",
    "            plt.plot([x_0, x_1], [y_0, y_1], color='grey', linestyle='--', linewidth=2, marker=\"*\")"
   ]
  },
  {
   "cell_type": "code",
   "execution_count": 22,
   "metadata": {},
   "outputs": [
    {
     "name": "stdout",
     "output_type": "stream",
     "text": [
      "v: (19.5, 21.8) => (39.0, 32.9)\n",
      "d: (7.5, 8.1) => (8.5, 8.4)\n",
      "f: (10, 9.8) => (20, 19.3)\n",
      "ext: (0.7, 10.0) => (1.1, 20.0)\n",
      "------g\n",
      "v: pes valo => (+0, -1.3351530480049831)\n",
      "d: pes valo => (+0, -0.32902013828812393)\n",
      "------r\n",
      "v: pes valo => (+0, -1.3118220782275785)\n",
      "d: pes valo => (+0, -0.36614913157196227)\n"
     ]
    },
    {
     "data": {
      "image/png": "[encoded data removed]",
      "text/plain": [
       "<Figure size 720x720 with 1 Axes>"
      ]
     },
     "metadata": {
      "needs_background": "light"
     },
     "output_type": "display_data"
    }
   ],
   "source": [
    "plt.figure(figsize=(10,10))\n",
    "plot_interaction(M, n, n+1)\n",
    "plot_pes_expense_g(M, PES, n)\n",
    "plot_pes_expense_r(M, PES, n)\n",
    "plt.show()"
   ]
  },
  {
   "cell_type": "code",
   "execution_count": null,
   "metadata": {},
   "outputs": [],
   "source": []
  },
  {
   "cell_type": "code",
   "execution_count": 95,
   "metadata": {},
   "outputs": [
    {
     "data": {
      "text/plain": [
       "(4,)"
      ]
     },
     "execution_count": 95,
     "metadata": {},
     "output_type": "execute_result"
    }
   ],
   "source": []
  },
  {
   "cell_type": "code",
   "execution_count": null,
   "metadata": {},
   "outputs": [],
   "source": []
  }
 ],
 "metadata": {
  "kernelspec": {
   "display_name": "Python 3",
   "language": "python",
   "name": "python3"
  },
  "language_info": {
   "codemirror_mode": {
    "name": "ipython",
    "version": 3
   },
   "file_extension": ".py",
   "mimetype": "text/x-python",
   "name": "python",
   "nbconvert_exporter": "python",
   "pygments_lexer": "ipython3",
   "version": "3.6.7"
  }
 },
 "nbformat": 4,
 "nbformat_minor": 2
}
