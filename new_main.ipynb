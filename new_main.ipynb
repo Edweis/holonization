{
 "cells": [
  {
   "cell_type": "code",
   "execution_count": 45,
   "metadata": {},
   "outputs": [],
   "source": [
    "import pandas as pd\n",
    "import numpy as np\n",
    "import matplotlib.pyplot as plt\n",
    "import matplotlib\n",
    "\n",
    "%run models.py"
   ]
  },
  {
   "cell_type": "markdown",
   "metadata": {},
   "source": [
    "## Tests values"
   ]
  },
  {
   "cell_type": "code",
   "execution_count": 46,
   "metadata": {},
   "outputs": [],
   "source": [
    "stake_holders = ['v', 'd', 'f', 'ext', 'int']"
   ]
  },
  {
   "cell_type": "markdown",
   "metadata": {},
   "source": [
    "### Situations"
   ]
  },
  {
   "cell_type": "code",
   "execution_count": 47,
   "metadata": {},
   "outputs": [],
   "source": [
    "data_0 = [\n",
    "    [0, 7.5, 10, 0.3, 4],\n",
    "    [0, 0, 0, 0.1, 8],\n",
    "    [9.5, 0, 0, 0.3, 0],\n",
    "    [10, 0, 0, 0, 0],\n",
    "    [0, 0, 0, 0, 0.01]\n",
    "]\n",
    "situation_0 = Situation(pd.DataFrame(data=data_0), stake_holders)\n",
    "deposit_0 = Deposit(pd.Series([0, 0, 0, 0, 0]), stake_holders)"
   ]
  },
  {
   "cell_type": "code",
   "execution_count": 48,
   "metadata": {},
   "outputs": [],
   "source": [
    "data_1 = [\n",
    "    [0, 8.5, 20, 0.4, 4],\n",
    "    [0, 0, 0, 0.4, 8],\n",
    "    [19, 0, 0, 0.3, 0],\n",
    "    [20, 0, 0, 0, 0],\n",
    "    [0, 0, 0, 0, 0.01]\n",
    "]\n",
    "situation_1 = Situation(pd.DataFrame(data=data_1), stake_holders)\n",
    "deposit_1 = Deposit(pd.Series([1, 2, 0, 0, 0]), stake_holders)"
   ]
  },
  {
   "cell_type": "code",
   "execution_count": 49,
   "metadata": {},
   "outputs": [
    {
     "name": "stdout",
     "output_type": "stream",
     "text": [
      "{'title': 'my_holon', 'situations': [], 'stake_holders': []}\n",
      "['v', 'd', 'f', 'ext', 'int']\n",
      "[]\n"
     ]
    },
    {
     "ename": "AssertionError",
     "evalue": "Stake holders don't match the previous ones.",
     "output_type": "error",
     "traceback": [
      "\u001b[0;31m---------------------------------------------------------------------------\u001b[0m",
      "\u001b[0;31mAssertionError\u001b[0m                            Traceback (most recent call last)",
      "\u001b[0;32m<ipython-input-49-885d08d56de0>\u001b[0m in \u001b[0;36m<module>\u001b[0;34m\u001b[0m\n\u001b[1;32m      1\u001b[0m \u001b[0mevolution\u001b[0m \u001b[0;34m=\u001b[0m \u001b[0mEvolution\u001b[0m\u001b[0;34m(\u001b[0m\u001b[0;34m'my_holon'\u001b[0m\u001b[0;34m)\u001b[0m\u001b[0;34m\u001b[0m\u001b[0;34m\u001b[0m\u001b[0m\n\u001b[0;32m----> 2\u001b[0;31m \u001b[0mevolution\u001b[0m\u001b[0;34m.\u001b[0m\u001b[0mappend\u001b[0m\u001b[0;34m(\u001b[0m\u001b[0msituation_0\u001b[0m\u001b[0;34m,\u001b[0m \u001b[0mdeposit_0\u001b[0m\u001b[0;34m)\u001b[0m\u001b[0;34m\u001b[0m\u001b[0;34m\u001b[0m\u001b[0m\n\u001b[0m\u001b[1;32m      3\u001b[0m \u001b[0mevolution\u001b[0m\u001b[0;34m.\u001b[0m\u001b[0mappend\u001b[0m\u001b[0;34m(\u001b[0m\u001b[0msituation_1\u001b[0m\u001b[0;34m,\u001b[0m \u001b[0mdeposit_1\u001b[0m\u001b[0;34m)\u001b[0m\u001b[0;34m\u001b[0m\u001b[0;34m\u001b[0m\u001b[0m\n",
      "\u001b[0;32m~/Documents/Travaux/holonization/models.py\u001b[0m in \u001b[0;36mappend\u001b[0;34m(self, situation, deposit)\u001b[0m\n\u001b[1;32m     18\u001b[0m             \u001b[0mprint\u001b[0m\u001b[0;34m(\u001b[0m\u001b[0mself\u001b[0m\u001b[0;34m.\u001b[0m\u001b[0mstake_holders\u001b[0m\u001b[0;34m)\u001b[0m\u001b[0;34m\u001b[0m\u001b[0;34m\u001b[0m\u001b[0m\n\u001b[1;32m     19\u001b[0m             \u001b[0;32massert\u001b[0m \u001b[0msituation\u001b[0m\u001b[0;34m.\u001b[0m\u001b[0mstake_holders\u001b[0m \u001b[0;34m==\u001b[0m \u001b[0mself\u001b[0m\u001b[0;34m.\u001b[0m\u001b[0mstake_holders\u001b[0m\u001b[0;34m,\u001b[0m\u001b[0;31m\\\u001b[0m\u001b[0;34m\u001b[0m\u001b[0;34m\u001b[0m\u001b[0m\n\u001b[0;32m---> 20\u001b[0;31m                 \u001b[0;34m'Stake holders don\\'t match the previous ones.'\u001b[0m\u001b[0;34m\u001b[0m\u001b[0;34m\u001b[0m\u001b[0m\n\u001b[0m\u001b[1;32m     21\u001b[0m             \u001b[0mself\u001b[0m\u001b[0;34m.\u001b[0m\u001b[0mstake_holders\u001b[0m \u001b[0;34m=\u001b[0m \u001b[0msituation\u001b[0m\u001b[0;34m.\u001b[0m\u001b[0mstake_holders\u001b[0m\u001b[0;34m\u001b[0m\u001b[0;34m\u001b[0m\u001b[0m\n\u001b[1;32m     22\u001b[0m         \u001b[0;32massert\u001b[0m \u001b[0mdeposit\u001b[0m\u001b[0;34m.\u001b[0m\u001b[0mshape\u001b[0m\u001b[0;34m[\u001b[0m\u001b[0;36m0\u001b[0m\u001b[0;34m]\u001b[0m \u001b[0;34m==\u001b[0m \u001b[0mlen\u001b[0m\u001b[0;34m(\u001b[0m\u001b[0mself\u001b[0m\u001b[0;34m.\u001b[0m\u001b[0mstake_holders\u001b[0m\u001b[0;34m)\u001b[0m\u001b[0;34m\u001b[0m\u001b[0;34m\u001b[0m\u001b[0m\n",
      "\u001b[0;31mAssertionError\u001b[0m: Stake holders don't match the previous ones."
     ]
    }
   ],
   "source": [
    "evolution = Evolution('my_holon')\n",
    "evolution.append(situation_0, deposit_0)\n",
    "evolution.append(situation_1, deposit_1)"
   ]
  },
  {
   "cell_type": "code",
   "execution_count": null,
   "metadata": {},
   "outputs": [],
   "source": []
  },
  {
   "cell_type": "code",
   "execution_count": null,
   "metadata": {},
   "outputs": [],
   "source": []
  }
 ],
 "metadata": {
  "kernelspec": {
   "display_name": "Python 3",
   "language": "python",
   "name": "python3"
  },
  "language_info": {
   "codemirror_mode": {
    "name": "ipython",
    "version": 3
   },
   "file_extension": ".py",
   "mimetype": "text/x-python",
   "name": "python",
   "nbconvert_exporter": "python",
   "pygments_lexer": "ipython3",
   "version": "3.6.7"
  }
 },
 "nbformat": 4,
 "nbformat_minor": 2
}
